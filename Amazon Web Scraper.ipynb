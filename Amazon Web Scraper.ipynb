{
 "cells": [
  {
   "cell_type": "code",
   "execution_count": null,
   "id": "3d939796-aaf6-42ab-8eb3-19d7ab5fcd0a",
   "metadata": {},
   "outputs": [],
   "source": [
    "#import libraries\n",
    "from bs4 import BeautifulSoup\n",
    "import requests\n",
    "import time\n",
    "import datetime\n"
   ]
  },
  {
   "cell_type": "code",
   "execution_count": null,
   "id": "3128a2cb-1613-4ddf-8346-437b007d5fca",
   "metadata": {},
   "outputs": [],
   "source": [
    "#connect to website\n",
    "url = 'https://www.amazon.ca/Funny-Systems-Business-Analyst-T-Shirt/dp/B0B63BYBQB/ref=sr_1_5?crid=TU9YSSFVIO92&dib=eyJ2IjoiMSJ9.ucnt8QEaMWr5cty3CnB1lk556i8RHW_3j2tEK4vtyrTTzd0XKtuCcQTsCtsMtXPjCbpNV7y7UmFkz0vlCJbZiGsZ6h2BMGwc7dq8-Pi-6xrJ_Zoq03cYFdxQimC9lI7M8Z4uenTKIwIPCaZ5F15e_zP_fWTF0nNtwS69NKZod5MIaq2Ovx1nxnzvW8JMs5N4Y3W_qXbGgGbRDauMKGgWFXecc5_O8QpVEj4zOhGvl-sboTGdAeRkBLnWdHHmLMIkv03WDY7ZJqbPoZZcP2sg9KdyXdN8OJ6wjjk98qHW53g.RkOHkx7xFjdLaAf5rRcqjr7KIvuMEhGeAqHoxctssqQ&dib_tag=se&keywords=data+analyst+tshirt&qid=1729790374&s=fashion&sprefix=data+analyst+tshirt%2Cfashion%2C167&sr=1-5'\n",
    "\n",
    "headers = {\"User-Agent\": \"Mozilla/5.0 (Windows NT 10.0; Win64; x64) AppleWebKit/537.36 (KHTML, like Gecko) Chrome/130.0.0.0 Safari/537.36\",\"Accept\": \"text/html,application/xhtml+xml,application/xml;q=0.9,image/avif,image/webp,image/apng,*/*;q=0.8,application/signed-exchange;v=b3;q=0.7\", \n",
    "    \"Accept-Encoding\": \"gzip, deflate, br, zstd\",\"Accept-Language\": \"en-US,en;q=0.9\",\"Upgrade-Insecure-Requests\": \"1\"}\n",
    "\n",
    "page = requests.get(url, headers=headers)\n",
    "\n",
    "soup1 = BeautifulSoup(page.content, 'html.parser')\n",
    "\n",
    "soup2 = BeautifulSoup(soup1.prettify(),'html.parser')\n",
    "\n",
    "title = soup2.find(id='productTitle').get_text()\n",
    "price = soup2.find(class_='aok-offscreen').get_text()\n",
    "\n",
    "print(title)\n",
    "print(price)\n"
   ]
  },
  {
   "cell_type": "code",
   "execution_count": null,
   "id": "a3b3de0b-dae6-42b3-b6a1-4774e623d635",
   "metadata": {},
   "outputs": [],
   "source": [
    "price = price.strip()[1:]"
   ]
  },
  {
   "cell_type": "code",
   "execution_count": null,
   "id": "85813e85-567f-4090-9577-e4508fb6a656",
   "metadata": {},
   "outputs": [],
   "source": [
    "title = title .strip()\n",
    "today = datetime.date.today()\n",
    "#print(today)"
   ]
  },
  {
   "cell_type": "code",
   "execution_count": null,
   "id": "1d811bdf-0d91-476e-968b-98c181ff9b14",
   "metadata": {},
   "outputs": [],
   "source": [
    "import csv\n",
    "\n",
    "header = ['Title', ' Price', 'date']\n",
    "data = [title, price, today]\n",
    "\n",
    "#with open('AmazonWebScraperDataset.csv', 'w' , newline='', encoding='UTF8') as f:\n",
    "    #writer = csv.writer(f)\n",
    "    #writer.writerow(header)\n",
    "    #writer.writerow(data)"
   ]
  },
  {
   "cell_type": "code",
   "execution_count": 130,
   "id": "e982ad7b-fa56-4a96-b238-6c6ab929bbfd",
   "metadata": {},
   "outputs": [
    {
     "data": {
      "text/html": [
       "<div>\n",
       "<style scoped>\n",
       "    .dataframe tbody tr th:only-of-type {\n",
       "        vertical-align: middle;\n",
       "    }\n",
       "\n",
       "    .dataframe tbody tr th {\n",
       "        vertical-align: top;\n",
       "    }\n",
       "\n",
       "    .dataframe thead th {\n",
       "        text-align: right;\n",
       "    }\n",
       "</style>\n",
       "<table border=\"1\" class=\"dataframe\">\n",
       "  <thead>\n",
       "    <tr style=\"text-align: right;\">\n",
       "      <th></th>\n",
       "      <th>Title</th>\n",
       "      <th>Price</th>\n",
       "      <th>date</th>\n",
       "    </tr>\n",
       "  </thead>\n",
       "  <tbody>\n",
       "    <tr>\n",
       "      <th>0</th>\n",
       "      <td>Funny Got Data Mis Data Systems Business Analy...</td>\n",
       "      <td>25.99</td>\n",
       "      <td>2024-10-24</td>\n",
       "    </tr>\n",
       "    <tr>\n",
       "      <th>1</th>\n",
       "      <td>Funny Got Data Mis Data Systems Business Analy...</td>\n",
       "      <td>25.99</td>\n",
       "      <td>2024-10-24</td>\n",
       "    </tr>\n",
       "    <tr>\n",
       "      <th>2</th>\n",
       "      <td>Funny Got Data Mis Data Systems Business Analy...</td>\n",
       "      <td>25.99</td>\n",
       "      <td>2024-10-24</td>\n",
       "    </tr>\n",
       "    <tr>\n",
       "      <th>3</th>\n",
       "      <td>Funny Got Data Mis Data Systems Business Analy...</td>\n",
       "      <td>25.99</td>\n",
       "      <td>2024-10-24</td>\n",
       "    </tr>\n",
       "    <tr>\n",
       "      <th>4</th>\n",
       "      <td>Funny Got Data Mis Data Systems Business Analy...</td>\n",
       "      <td>25.99</td>\n",
       "      <td>2024-10-24</td>\n",
       "    </tr>\n",
       "    <tr>\n",
       "      <th>...</th>\n",
       "      <td>...</td>\n",
       "      <td>...</td>\n",
       "      <td>...</td>\n",
       "    </tr>\n",
       "    <tr>\n",
       "      <th>60</th>\n",
       "      <td>Funny Got Data Mis Data Systems Business Analy...</td>\n",
       "      <td>25.99</td>\n",
       "      <td>2024-10-24</td>\n",
       "    </tr>\n",
       "    <tr>\n",
       "      <th>61</th>\n",
       "      <td>Funny Got Data Mis Data Systems Business Analy...</td>\n",
       "      <td>25.99</td>\n",
       "      <td>2024-10-24</td>\n",
       "    </tr>\n",
       "    <tr>\n",
       "      <th>62</th>\n",
       "      <td>Funny Got Data Mis Data Systems Business Analy...</td>\n",
       "      <td>25.99</td>\n",
       "      <td>2024-10-24</td>\n",
       "    </tr>\n",
       "    <tr>\n",
       "      <th>63</th>\n",
       "      <td>Funny Got Data Mis Data Systems Business Analy...</td>\n",
       "      <td>25.99</td>\n",
       "      <td>2024-10-24</td>\n",
       "    </tr>\n",
       "    <tr>\n",
       "      <th>64</th>\n",
       "      <td>Funny Got Data Mis Data Systems Business Analy...</td>\n",
       "      <td>25.99</td>\n",
       "      <td>2024-10-24</td>\n",
       "    </tr>\n",
       "  </tbody>\n",
       "</table>\n",
       "<p>65 rows × 3 columns</p>\n",
       "</div>"
      ],
      "text/plain": [
       "                                                Title   Price        date\n",
       "0   Funny Got Data Mis Data Systems Business Analy...   25.99  2024-10-24\n",
       "1   Funny Got Data Mis Data Systems Business Analy...   25.99  2024-10-24\n",
       "2   Funny Got Data Mis Data Systems Business Analy...   25.99  2024-10-24\n",
       "3   Funny Got Data Mis Data Systems Business Analy...   25.99  2024-10-24\n",
       "4   Funny Got Data Mis Data Systems Business Analy...   25.99  2024-10-24\n",
       "..                                                ...     ...         ...\n",
       "60  Funny Got Data Mis Data Systems Business Analy...   25.99  2024-10-24\n",
       "61  Funny Got Data Mis Data Systems Business Analy...   25.99  2024-10-24\n",
       "62  Funny Got Data Mis Data Systems Business Analy...   25.99  2024-10-24\n",
       "63  Funny Got Data Mis Data Systems Business Analy...   25.99  2024-10-24\n",
       "64  Funny Got Data Mis Data Systems Business Analy...   25.99  2024-10-24\n",
       "\n",
       "[65 rows x 3 columns]"
      ]
     },
     "execution_count": 130,
     "metadata": {},
     "output_type": "execute_result"
    }
   ],
   "source": [
    "import pandas as pd\n",
    "\n",
    "df = pd.read_csv(r'C:\\Users\\patel\\AmazonWebScraperDataset.csv')\n",
    "df"
   ]
  },
  {
   "cell_type": "code",
   "execution_count": null,
   "id": "382a7792-e5d9-4111-b803-cffb732e7670",
   "metadata": {},
   "outputs": [],
   "source": [
    "#now appending data to the csv\n",
    "\n",
    "with open('AmazonWebScraperDataset.csv', 'a+' , newline='', encoding='UTF8') as f:\n",
    "    writer = csv.writer(f)\n",
    "    writer.writerow(data)"
   ]
  },
  {
   "cell_type": "code",
   "execution_count": null,
   "id": "c429b642-ecd2-4e01-952f-db415abc2768",
   "metadata": {},
   "outputs": [],
   "source": []
  },
  {
   "cell_type": "code",
   "execution_count": null,
   "id": "01cf65c7-6db1-457a-9571-2f92ca78f9c2",
   "metadata": {},
   "outputs": [],
   "source": []
  },
  {
   "cell_type": "code",
   "execution_count": null,
   "id": "27095579-7b7f-4437-84a3-8c12fecfaf32",
   "metadata": {},
   "outputs": [],
   "source": [
    "#run in background everyday to automate\n",
    "\n",
    "def check_price():\n",
    "        url = 'https://www.amazon.ca/Funny-Systems-Business-Analyst-T-Shirt/dp/B0B63BYBQB/ref=sr_1_5?crid=TU9YSSFVIO92&dib=eyJ2IjoiMSJ9.ucnt8QEaMWr5cty3CnB1lk556i8RHW_3j2tEK4vtyrTTzd0XKtuCcQTsCtsMtXPjCbpNV7y7UmFkz0vlCJbZiGsZ6h2BMGwc7dq8-Pi-6xrJ_Zoq03cYFdxQimC9lI7M8Z4uenTKIwIPCaZ5F15e_zP_fWTF0nNtwS69NKZod5MIaq2Ovx1nxnzvW8JMs5N4Y3W_qXbGgGbRDauMKGgWFXecc5_O8QpVEj4zOhGvl-sboTGdAeRkBLnWdHHmLMIkv03WDY7ZJqbPoZZcP2sg9KdyXdN8OJ6wjjk98qHW53g.RkOHkx7xFjdLaAf5rRcqjr7KIvuMEhGeAqHoxctssqQ&dib_tag=se&keywords=data+analyst+tshirt&qid=1729790374&s=fashion&sprefix=data+analyst+tshirt%2Cfashion%2C167&sr=1-5'\n",
    "        \n",
    "        headers = {\"User-Agent\": \"Mozilla/5.0 (Windows NT 10.0; Win64; x64) AppleWebKit/537.36 (KHTML, like Gecko) Chrome/130.0.0.0 Safari/537.36\",\"Accept\": \"text/html,application/xhtml+xml,application/xml;q=0.9,image/avif,image/webp,image/apng,*/*;q=0.8,application/signed-exchange;v=b3;q=0.7\", \n",
    "            \"Accept-Encoding\": \"gzip, deflate, br, zstd\",\"Accept-Language\": \"en-US,en;q=0.9\",\"Upgrade-Insecure-Requests\": \"1\"}\n",
    "        \n",
    "        page = requests.get(url, headers=headers)\n",
    "        \n",
    "        soup1 = BeautifulSoup(page.content, 'html.parser')\n",
    "        \n",
    "        soup2 = BeautifulSoup(soup1.prettify(),'html.parser')\n",
    "        \n",
    "        title = soup2.find(id='productTitle').get_text()\n",
    "        price = soup2.find(class_='aok-offscreen').get_text()\n",
    "    \n",
    "        price = price.strip()[1:]\n",
    "        title = title .strip()\n",
    "\n",
    "        import datetime \n",
    "    \n",
    "        today = datetime.date.today()\n",
    "\n",
    "        import csv\n",
    "\n",
    "        header = ['Title', ' Price', 'date']\n",
    "        data = [title, price, today]\n",
    "\n",
    "        with open('AmazonWebScraperDataset.csv', 'a+' , newline='', encoding='UTF8') as f:\n",
    "            writer = csv.writer(f)\n",
    "            writer.writerow(data)\n",
    "\n",
    "\n"
   ]
  },
  {
   "cell_type": "code",
   "execution_count": null,
   "id": "148c0d3f-d6c2-4290-a231-c379c11983bd",
   "metadata": {},
   "outputs": [],
   "source": [
    "while(True):\n",
    "    check_price()\n",
    "    time.sleep(86400)"
   ]
  },
  {
   "cell_type": "code",
   "execution_count": null,
   "id": "81d2bba4-2743-4d62-a210-7cbce86fb3f9",
   "metadata": {},
   "outputs": [],
   "source": [
    "import pandas as pd\n",
    "\n",
    "df = pd.read_csv(r'C:\\Users\\patel\\AmazonWebScraperDataset.csv')\n",
    "df"
   ]
  },
  {
   "cell_type": "code",
   "execution_count": null,
   "id": "9dfe9076-b79c-4cd9-b5ee-475b0682749c",
   "metadata": {},
   "outputs": [],
   "source": []
  },
  {
   "cell_type": "code",
   "execution_count": null,
   "id": "392f237c-0afd-4184-b6d5-5a3f59bd5981",
   "metadata": {},
   "outputs": [],
   "source": []
  }
 ],
 "metadata": {
  "kernelspec": {
   "display_name": "Python 3 (ipykernel)",
   "language": "python",
   "name": "python3"
  },
  "language_info": {
   "codemirror_mode": {
    "name": "ipython",
    "version": 3
   },
   "file_extension": ".py",
   "mimetype": "text/x-python",
   "name": "python",
   "nbconvert_exporter": "python",
   "pygments_lexer": "ipython3",
   "version": "3.12.4"
  }
 },
 "nbformat": 4,
 "nbformat_minor": 5
}
